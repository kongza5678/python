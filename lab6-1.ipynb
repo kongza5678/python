{
 "cells": [
  {
   "cell_type": "code",
   "execution_count": 6,
   "metadata": {},
   "outputs": [
    {
     "name": "stdout",
     "output_type": "stream",
     "text": [
      "hello word \n"
     ]
    }
   ],
   "source": [
    "print(\"hello word \")\n",
    "\n",
    "\n",
    "\n"
   ]
  },
  {
   "cell_type": "code",
   "execution_count": 2,
   "metadata": {},
   "outputs": [],
   "source": [
    "x = 10 \n",
    "y= 20\n",
    "z = x+y\n",
    "a = {10,20,30,40,50}\n",
    "b = {10,20,30,40,50}\n",
    "c = {10,20,30,40,50}\n",
    "d = {\"name\": \"khunanon\",\"email\": \"6529011047@gmail.com\", \"Tel\":\"093-2480280\"}"
   ]
  }
 ],
 "metadata": {
  "kernelspec": {
   "display_name": "Python 3",
   "language": "python",
   "name": "python3"
  },
  "language_info": {
   "codemirror_mode": {
    "name": "ipython",
    "version": 3
   },
   "file_extension": ".py",
   "mimetype": "text/x-python",
   "name": "python",
   "nbconvert_exporter": "python",
   "pygments_lexer": "ipython3",
   "version": "3.12.4"
  }
 },
 "nbformat": 4,
 "nbformat_minor": 2
}
