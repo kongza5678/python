{
 "cells": [
  {
   "cell_type": "code",
   "execution_count": 49,
   "metadata": {},
   "outputs": [
    {
     "name": "stdout",
     "output_type": "stream",
     "text": [
      "ชื่อพนักงาน a\n",
      "เงินเดือน 2500.00\n",
      "ล่วงเวลา 30.00\n",
      "ค่าล่วงเวลา 3000.00\n",
      "รายได้ทั้งหมด 5500.00\n"
     ]
    }
   ],
   "source": [
    "def saley (name,sa ,ot):\n",
    "    if(ot >= 40):\n",
    "        money_ot = ot * 150\n",
    "    else:\n",
    "        money_ot = ot * 100\n",
    "    total = sa + money_ot\n",
    "    print(\"ชื่อพนักงาน %s\" % name)\n",
    "    print(\"เงินเดือน %.2f\" % sa )\n",
    "    print(\"ล่วงเวลา %.2f\" % ot )\n",
    "    print(\"ค่าล่วงเวลา %.2f\" %  money_ot )\n",
    "    print(\"รายได้ทั้งหมด %.2f\" % total )\n",
    "\n",
    "name = input(\"ชื่อพนักงาน: \")\n",
    "sa = float(input(\"เงินเดือน: \"))\n",
    "ot = int(input(\"ค่าล่วงเวลา: \"))\n",
    "saley(name , sa , ot ) \n",
    "\n",
    "\n",
    "\n"
   ]
  }
 ],
 "metadata": {
  "kernelspec": {
   "display_name": "Python 3",
   "language": "python",
   "name": "python3"
  },
  "language_info": {
   "codemirror_mode": {
    "name": "ipython",
    "version": 3
   },
   "file_extension": ".py",
   "mimetype": "text/x-python",
   "name": "python",
   "nbconvert_exporter": "python",
   "pygments_lexer": "ipython3",
   "version": "3.12.4"
  }
 },
 "nbformat": 4,
 "nbformat_minor": 2
}
